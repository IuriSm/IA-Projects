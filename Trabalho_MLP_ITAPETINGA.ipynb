{
  "nbformat": 4,
  "nbformat_minor": 0,
  "metadata": {
    "colab": {
      "provenance": []
    },
    "kernelspec": {
      "name": "python3",
      "display_name": "Python 3"
    }
  },
  "cells": [
    {
      "cell_type": "markdown",
      "metadata": {
        "id": "GeusebGDwT1L"
      },
      "source": [
        "## Importação"
      ]
    },
    {
      "cell_type": "code",
      "metadata": {
        "id": "0myIts7dpii0"
      },
      "source": [
        "# Importa os arquivos necessários\n",
        "import pandas as pd\n",
        "from sklearn.model_selection import train_test_split\n",
        "import tensorflow as tf\n",
        "from tensorflow.keras import backend\n",
        "import numpy as np\n",
        "import matplotlib.pyplot as plt\n",
        "from sklearn.metrics import mean_squared_error, mean_absolute_error\n",
        "import timeit\n",
        "from tensorflow import keras\n",
        "from tensorflow.keras import layers\n",
        "from keras.optimizers import *"
      ],
      "execution_count": null,
      "outputs": []
    },
    {
      "cell_type": "code",
      "metadata": {
        "id": "LIc230mW5uds"
      },
      "source": [
        "# Carregar o dataframe\n",
        "itapa_df = pd.read_csv(\"https://raw.githubusercontent.com/RF3758/K37PjOgE53/main/INMET_NE_BA_A446_ITAPETINGA_01-01-2014_A_08-04-2019_ALTERADO.csv\", sep=';', encoding = 'ISO-8859-1',decimal=',',index_col=False)"
      ],
      "execution_count": null,
      "outputs": []
    },
    {
      "cell_type": "markdown",
      "metadata": {
        "id": "dMOvHUzHgOIS"
      },
      "source": [
        "## Informações do dataframe"
      ]
    },
    {
      "cell_type": "code",
      "metadata": {
        "id": "7mLzYwpOzVaU",
        "colab": {
          "base_uri": "https://localhost:8080/"
        },
        "outputId": "e93879a7-97ed-424b-9a08-4f2e5efa9946"
      },
      "source": [
        "itapa_df.info()\n",
        "itapa_df.isnull().sum()"
      ],
      "execution_count": null,
      "outputs": [
        {
          "output_type": "stream",
          "text": [
            "<class 'pandas.core.frame.DataFrame'>\n",
            "RangeIndex: 46176 entries, 0 to 46175\n",
            "Data columns (total 24 columns):\n",
            " #   Column                                                 Non-Null Count  Dtype  \n",
            "---  ------                                                 --------------  -----  \n",
            " 0   Ano                                                    46176 non-null  int64  \n",
            " 1   Mês                                                    46176 non-null  int64  \n",
            " 2   Dia                                                    46176 non-null  int64  \n",
            " 3   Hora UTC                                               46176 non-null  int64  \n",
            " 4   PRECIPITAÇÃO TOTAL, HORÁRIO (mm)                       41841 non-null  float64\n",
            " 5   PRESSAO ATMOSFERICA AO NIVEL DA ESTACAO, HORARIA (mB)  45013 non-null  float64\n",
            " 6   PRESSÃO ATMOSFERICA MAX.NA HORA ANT. (AUT) (mB)        44994 non-null  float64\n",
            " 7   PRESSÃO ATMOSFERICA MIN. NA HORA ANT. (AUT) (mB)       44994 non-null  float64\n",
            " 8   RADIACAO GLOBAL (W/m²)                                 23425 non-null  float64\n",
            " 9   TEMPERATURA DO AR - BULBO SECO, HORARIA (°C)           45013 non-null  float64\n",
            " 10  TEMPERATURA DO PONTO DE ORVALHO (°C)                   45013 non-null  float64\n",
            " 11  TEMPERATURA MÁXIMA NA HORA ANT. (AUT) (°C)             44994 non-null  float64\n",
            " 12  TEMPERATURA MÍNIMA NA HORA ANT. (AUT) (°C)             44994 non-null  float64\n",
            " 13  TEMPERATURA ORVALHO MAX. NA HORA ANT. (AUT) (°C)       44994 non-null  float64\n",
            " 14  TEMPERATURA ORVALHO MIN. NA HORA ANT. (AUT) (°C)       44994 non-null  float64\n",
            " 15  UMIDADE REL. MAX. NA HORA ANT. (AUT) (%)               44994 non-null  float64\n",
            " 16  UMIDADE REL. MIN. NA HORA ANT. (AUT) (%)               44994 non-null  float64\n",
            " 17  UMIDADE RELATIVA DO AR, HORARIA (%)                    45013 non-null  float64\n",
            " 18  VENTO, DIREÇÃO HORARIA (gr) (° (gr))                   45012 non-null  float64\n",
            " 19  VENTO, RAJADA MAXIMA (m/s)                             44984 non-null  float64\n",
            " 20  VENTO, VELOCIDADE HORARIA (m/s)                        45012 non-null  float64\n",
            " 21  LATITUDE                                               46176 non-null  float64\n",
            " 22  LONGITUDE                                              46176 non-null  float64\n",
            " 23  ALTITUDE                                               46176 non-null  int64  \n",
            "dtypes: float64(19), int64(5)\n",
            "memory usage: 8.5 MB\n"
          ],
          "name": "stdout"
        },
        {
          "output_type": "execute_result",
          "data": {
            "text/plain": [
              "Ano                                                          0\n",
              "Mês                                                          0\n",
              "Dia                                                          0\n",
              "Hora UTC                                                     0\n",
              "PRECIPITAÇÃO TOTAL, HORÁRIO (mm)                          4335\n",
              "PRESSAO ATMOSFERICA AO NIVEL DA ESTACAO, HORARIA (mB)     1163\n",
              "PRESSÃO ATMOSFERICA MAX.NA HORA ANT. (AUT) (mB)           1182\n",
              "PRESSÃO ATMOSFERICA MIN. NA HORA ANT. (AUT) (mB)          1182\n",
              "RADIACAO GLOBAL (W/m²)                                   22751\n",
              "TEMPERATURA DO AR - BULBO SECO, HORARIA (°C)              1163\n",
              "TEMPERATURA DO PONTO DE ORVALHO (°C)                      1163\n",
              "TEMPERATURA MÁXIMA NA HORA ANT. (AUT) (°C)                1182\n",
              "TEMPERATURA MÍNIMA NA HORA ANT. (AUT) (°C)                1182\n",
              "TEMPERATURA ORVALHO MAX. NA HORA ANT. (AUT) (°C)          1182\n",
              "TEMPERATURA ORVALHO MIN. NA HORA ANT. (AUT) (°C)          1182\n",
              "UMIDADE REL. MAX. NA HORA ANT. (AUT) (%)                  1182\n",
              "UMIDADE REL. MIN. NA HORA ANT. (AUT) (%)                  1182\n",
              "UMIDADE RELATIVA DO AR, HORARIA (%)                       1163\n",
              "VENTO, DIREÇÃO HORARIA (gr) (° (gr))                      1164\n",
              "VENTO, RAJADA MAXIMA (m/s)                                1192\n",
              "VENTO, VELOCIDADE HORARIA (m/s)                           1164\n",
              "LATITUDE                                                     0\n",
              "LONGITUDE                                                    0\n",
              "ALTITUDE                                                     0\n",
              "dtype: int64"
            ]
          },
          "metadata": {
            "tags": []
          },
          "execution_count": 5
        }
      ]
    },
    {
      "cell_type": "code",
      "metadata": {
        "id": "3W72IFZbhxsI",
        "colab": {
          "base_uri": "https://localhost:8080/",
          "height": 391
        },
        "outputId": "2e73a1d6-aa49-4d3e-cc25-155148e79bc4"
      },
      "source": [
        "itapa_df.describe()"
      ],
      "execution_count": null,
      "outputs": [
        {
          "output_type": "execute_result",
          "data": {
            "text/html": [
              "<div>\n",
              "<style scoped>\n",
              "    .dataframe tbody tr th:only-of-type {\n",
              "        vertical-align: middle;\n",
              "    }\n",
              "\n",
              "    .dataframe tbody tr th {\n",
              "        vertical-align: top;\n",
              "    }\n",
              "\n",
              "    .dataframe thead th {\n",
              "        text-align: right;\n",
              "    }\n",
              "</style>\n",
              "<table border=\"1\" class=\"dataframe\">\n",
              "  <thead>\n",
              "    <tr style=\"text-align: right;\">\n",
              "      <th></th>\n",
              "      <th>Ano</th>\n",
              "      <th>Mês</th>\n",
              "      <th>Dia</th>\n",
              "      <th>Hora UTC</th>\n",
              "      <th>PRECIPITAÇÃO TOTAL, HORÁRIO (mm)</th>\n",
              "      <th>PRESSAO ATMOSFERICA AO NIVEL DA ESTACAO, HORARIA (mB)</th>\n",
              "      <th>PRESSÃO ATMOSFERICA MAX.NA HORA ANT. (AUT) (mB)</th>\n",
              "      <th>PRESSÃO ATMOSFERICA MIN. NA HORA ANT. (AUT) (mB)</th>\n",
              "      <th>RADIACAO GLOBAL (W/m²)</th>\n",
              "      <th>TEMPERATURA DO AR - BULBO SECO, HORARIA (°C)</th>\n",
              "      <th>TEMPERATURA DO PONTO DE ORVALHO (°C)</th>\n",
              "      <th>TEMPERATURA MÁXIMA NA HORA ANT. (AUT) (°C)</th>\n",
              "      <th>TEMPERATURA MÍNIMA NA HORA ANT. (AUT) (°C)</th>\n",
              "      <th>TEMPERATURA ORVALHO MAX. NA HORA ANT. (AUT) (°C)</th>\n",
              "      <th>TEMPERATURA ORVALHO MIN. NA HORA ANT. (AUT) (°C)</th>\n",
              "      <th>UMIDADE REL. MAX. NA HORA ANT. (AUT) (%)</th>\n",
              "      <th>UMIDADE REL. MIN. NA HORA ANT. (AUT) (%)</th>\n",
              "      <th>UMIDADE RELATIVA DO AR, HORARIA (%)</th>\n",
              "      <th>VENTO, DIREÇÃO HORARIA (gr) (° (gr))</th>\n",
              "      <th>VENTO, RAJADA MAXIMA (m/s)</th>\n",
              "      <th>VENTO, VELOCIDADE HORARIA (m/s)</th>\n",
              "      <th>LATITUDE</th>\n",
              "      <th>LONGITUDE</th>\n",
              "      <th>ALTITUDE</th>\n",
              "    </tr>\n",
              "  </thead>\n",
              "  <tbody>\n",
              "    <tr>\n",
              "      <th>count</th>\n",
              "      <td>46176.000000</td>\n",
              "      <td>46176.000000</td>\n",
              "      <td>46176.000000</td>\n",
              "      <td>46176.000000</td>\n",
              "      <td>41841.000000</td>\n",
              "      <td>45013.000000</td>\n",
              "      <td>44994.000000</td>\n",
              "      <td>44994.000000</td>\n",
              "      <td>23425.000000</td>\n",
              "      <td>45013.000000</td>\n",
              "      <td>45013.000000</td>\n",
              "      <td>44994.000000</td>\n",
              "      <td>44994.000000</td>\n",
              "      <td>44994.000000</td>\n",
              "      <td>44994.000000</td>\n",
              "      <td>44994.000000</td>\n",
              "      <td>44994.000000</td>\n",
              "      <td>45013.000000</td>\n",
              "      <td>45012.000000</td>\n",
              "      <td>44984.000000</td>\n",
              "      <td>45012.000000</td>\n",
              "      <td>4.617600e+04</td>\n",
              "      <td>4.617600e+04</td>\n",
              "      <td>46176.0</td>\n",
              "    </tr>\n",
              "    <tr>\n",
              "      <th>mean</th>\n",
              "      <td>2016.152807</td>\n",
              "      <td>6.301455</td>\n",
              "      <td>15.672037</td>\n",
              "      <td>11.500000</td>\n",
              "      <td>0.072819</td>\n",
              "      <td>984.230876</td>\n",
              "      <td>984.497440</td>\n",
              "      <td>983.961826</td>\n",
              "      <td>1436.841272</td>\n",
              "      <td>24.494437</td>\n",
              "      <td>17.966456</td>\n",
              "      <td>25.182200</td>\n",
              "      <td>23.870103</td>\n",
              "      <td>18.468074</td>\n",
              "      <td>17.488005</td>\n",
              "      <td>72.774548</td>\n",
              "      <td>67.242966</td>\n",
              "      <td>70.055806</td>\n",
              "      <td>130.987670</td>\n",
              "      <td>4.931418</td>\n",
              "      <td>2.200102</td>\n",
              "      <td>-1.524472e+01</td>\n",
              "      <td>-4.022944e+01</td>\n",
              "      <td>269.0</td>\n",
              "    </tr>\n",
              "    <tr>\n",
              "      <th>std</th>\n",
              "      <td>1.527157</td>\n",
              "      <td>3.500495</td>\n",
              "      <td>8.807991</td>\n",
              "      <td>6.922262</td>\n",
              "      <td>0.652200</td>\n",
              "      <td>3.384321</td>\n",
              "      <td>3.356393</td>\n",
              "      <td>3.398861</td>\n",
              "      <td>1077.535087</td>\n",
              "      <td>4.238162</td>\n",
              "      <td>2.245133</td>\n",
              "      <td>4.494144</td>\n",
              "      <td>3.998980</td>\n",
              "      <td>2.152166</td>\n",
              "      <td>2.362086</td>\n",
              "      <td>17.198895</td>\n",
              "      <td>19.033639</td>\n",
              "      <td>18.204637</td>\n",
              "      <td>88.910978</td>\n",
              "      <td>2.585764</td>\n",
              "      <td>1.380911</td>\n",
              "      <td>1.010225e-11</td>\n",
              "      <td>1.927013e-11</td>\n",
              "      <td>0.0</td>\n",
              "    </tr>\n",
              "    <tr>\n",
              "      <th>min</th>\n",
              "      <td>2014.000000</td>\n",
              "      <td>1.000000</td>\n",
              "      <td>1.000000</td>\n",
              "      <td>0.000000</td>\n",
              "      <td>0.000000</td>\n",
              "      <td>972.500000</td>\n",
              "      <td>972.700000</td>\n",
              "      <td>972.300000</td>\n",
              "      <td>0.000000</td>\n",
              "      <td>10.800000</td>\n",
              "      <td>6.300000</td>\n",
              "      <td>11.500000</td>\n",
              "      <td>10.800000</td>\n",
              "      <td>7.700000</td>\n",
              "      <td>2.800000</td>\n",
              "      <td>17.000000</td>\n",
              "      <td>13.000000</td>\n",
              "      <td>16.000000</td>\n",
              "      <td>1.000000</td>\n",
              "      <td>0.600000</td>\n",
              "      <td>0.100000</td>\n",
              "      <td>-1.524472e+01</td>\n",
              "      <td>-4.022944e+01</td>\n",
              "      <td>269.0</td>\n",
              "    </tr>\n",
              "    <tr>\n",
              "      <th>25%</th>\n",
              "      <td>2015.000000</td>\n",
              "      <td>3.000000</td>\n",
              "      <td>8.000000</td>\n",
              "      <td>5.750000</td>\n",
              "      <td>0.000000</td>\n",
              "      <td>982.000000</td>\n",
              "      <td>982.200000</td>\n",
              "      <td>981.700000</td>\n",
              "      <td>447.600000</td>\n",
              "      <td>21.500000</td>\n",
              "      <td>16.600000</td>\n",
              "      <td>21.900000</td>\n",
              "      <td>21.100000</td>\n",
              "      <td>17.200000</td>\n",
              "      <td>16.100000</td>\n",
              "      <td>61.000000</td>\n",
              "      <td>52.000000</td>\n",
              "      <td>57.000000</td>\n",
              "      <td>66.000000</td>\n",
              "      <td>2.700000</td>\n",
              "      <td>1.100000</td>\n",
              "      <td>-1.524472e+01</td>\n",
              "      <td>-4.022944e+01</td>\n",
              "      <td>269.0</td>\n",
              "    </tr>\n",
              "    <tr>\n",
              "      <th>50%</th>\n",
              "      <td>2016.000000</td>\n",
              "      <td>6.000000</td>\n",
              "      <td>16.000000</td>\n",
              "      <td>11.500000</td>\n",
              "      <td>0.000000</td>\n",
              "      <td>984.000000</td>\n",
              "      <td>984.300000</td>\n",
              "      <td>983.800000</td>\n",
              "      <td>1347.300000</td>\n",
              "      <td>23.800000</td>\n",
              "      <td>18.300000</td>\n",
              "      <td>24.400000</td>\n",
              "      <td>23.300000</td>\n",
              "      <td>18.800000</td>\n",
              "      <td>17.900000</td>\n",
              "      <td>77.000000</td>\n",
              "      <td>71.000000</td>\n",
              "      <td>74.000000</td>\n",
              "      <td>103.000000</td>\n",
              "      <td>4.600000</td>\n",
              "      <td>1.900000</td>\n",
              "      <td>-1.524472e+01</td>\n",
              "      <td>-4.022944e+01</td>\n",
              "      <td>269.0</td>\n",
              "    </tr>\n",
              "    <tr>\n",
              "      <th>75%</th>\n",
              "      <td>2017.000000</td>\n",
              "      <td>9.000000</td>\n",
              "      <td>23.000000</td>\n",
              "      <td>17.250000</td>\n",
              "      <td>0.000000</td>\n",
              "      <td>986.500000</td>\n",
              "      <td>986.700000</td>\n",
              "      <td>986.200000</td>\n",
              "      <td>2272.300000</td>\n",
              "      <td>27.300000</td>\n",
              "      <td>19.600000</td>\n",
              "      <td>28.300000</td>\n",
              "      <td>26.400000</td>\n",
              "      <td>20.000000</td>\n",
              "      <td>19.200000</td>\n",
              "      <td>87.000000</td>\n",
              "      <td>84.000000</td>\n",
              "      <td>86.000000</td>\n",
              "      <td>161.000000</td>\n",
              "      <td>6.800000</td>\n",
              "      <td>3.000000</td>\n",
              "      <td>-1.524472e+01</td>\n",
              "      <td>-4.022944e+01</td>\n",
              "      <td>269.0</td>\n",
              "    </tr>\n",
              "    <tr>\n",
              "      <th>max</th>\n",
              "      <td>2019.000000</td>\n",
              "      <td>12.000000</td>\n",
              "      <td>31.000000</td>\n",
              "      <td>23.000000</td>\n",
              "      <td>40.800000</td>\n",
              "      <td>996.200000</td>\n",
              "      <td>996.300000</td>\n",
              "      <td>996.000000</td>\n",
              "      <td>4412.800000</td>\n",
              "      <td>39.800000</td>\n",
              "      <td>23.900000</td>\n",
              "      <td>40.300000</td>\n",
              "      <td>38.600000</td>\n",
              "      <td>25.700000</td>\n",
              "      <td>23.200000</td>\n",
              "      <td>95.000000</td>\n",
              "      <td>95.000000</td>\n",
              "      <td>95.000000</td>\n",
              "      <td>360.000000</td>\n",
              "      <td>20.800000</td>\n",
              "      <td>9.500000</td>\n",
              "      <td>-1.524472e+01</td>\n",
              "      <td>-4.022944e+01</td>\n",
              "      <td>269.0</td>\n",
              "    </tr>\n",
              "  </tbody>\n",
              "</table>\n",
              "</div>"
            ],
            "text/plain": [
              "                Ano           Mês  ...     LONGITUDE  ALTITUDE\n",
              "count  46176.000000  46176.000000  ...  4.617600e+04   46176.0\n",
              "mean    2016.152807      6.301455  ... -4.022944e+01     269.0\n",
              "std        1.527157      3.500495  ...  1.927013e-11       0.0\n",
              "min     2014.000000      1.000000  ... -4.022944e+01     269.0\n",
              "25%     2015.000000      3.000000  ... -4.022944e+01     269.0\n",
              "50%     2016.000000      6.000000  ... -4.022944e+01     269.0\n",
              "75%     2017.000000      9.000000  ... -4.022944e+01     269.0\n",
              "max     2019.000000     12.000000  ... -4.022944e+01     269.0\n",
              "\n",
              "[8 rows x 24 columns]"
            ]
          },
          "metadata": {
            "tags": []
          },
          "execution_count": 6
        }
      ]
    },
    {
      "cell_type": "markdown",
      "metadata": {
        "id": "UoVMr_Ypgab5"
      },
      "source": [
        "## Normalizando dataframe"
      ]
    },
    {
      "cell_type": "code",
      "metadata": {
        "id": "vKxoOGbiuy63"
      },
      "source": [
        "#Normalizando dataframe\n",
        "filps = {'RADIACAO GLOBAL (W/m²)': 0}\n",
        "itapa_df = itapa_df.fillna(value=filps)"
      ],
      "execution_count": null,
      "outputs": []
    },
    {
      "cell_type": "code",
      "metadata": {
        "id": "BKE-fuD3uy65"
      },
      "source": [
        "itapa_df = itapa_df.dropna()"
      ],
      "execution_count": null,
      "outputs": []
    },
    {
      "cell_type": "code",
      "metadata": {
        "id": "r5W-J6unuy66"
      },
      "source": [
        "#Definindo x e y\n",
        "x = itapa_df.drop('RADIACAO GLOBAL (W/m²)', axis=1)\n",
        "y = itapa_df['RADIACAO GLOBAL (W/m²)']"
      ],
      "execution_count": null,
      "outputs": []
    },
    {
      "cell_type": "code",
      "metadata": {
        "colab": {
          "base_uri": "https://localhost:8080/"
        },
        "id": "nlHVbWMfuy67",
        "outputId": "e2b6c1f5-15ab-46d5-94c0-17d243e78ace"
      },
      "source": [
        "print(\"x =\",len(x),\"/\",\"y =\",len(y),\"/\",\"df =\",len(itapa_df))"
      ],
      "execution_count": null,
      "outputs": [
        {
          "output_type": "stream",
          "text": [
            "x = 41814 / y = 41814 / df = 41814\n"
          ],
          "name": "stdout"
        }
      ]
    },
    {
      "cell_type": "markdown",
      "metadata": {
        "id": "RINyy6GJgghN"
      },
      "source": [
        "## Teste e treino"
      ]
    },
    {
      "cell_type": "code",
      "metadata": {
        "id": "G7_hfj6Pu8v-"
      },
      "source": [
        "#Teste e treino\n",
        "X1, X2, Y1, Y2 = train_test_split(x, y, test_size=0.2, train_size=0.8)"
      ],
      "execution_count": null,
      "outputs": []
    },
    {
      "cell_type": "code",
      "metadata": {
        "colab": {
          "base_uri": "https://localhost:8080/"
        },
        "id": "Ia3P2N3MYttP",
        "outputId": "461bf6be-a71b-4822-c5be-64a18192118f"
      },
      "source": [
        "y"
      ],
      "execution_count": null,
      "outputs": [
        {
          "output_type": "execute_result",
          "data": {
            "text/plain": [
              "0           0.0\n",
              "1           0.0\n",
              "2           0.0\n",
              "3           0.0\n",
              "4           0.0\n",
              "          ...  \n",
              "46171    1080.8\n",
              "46172     648.2\n",
              "46173      67.4\n",
              "46174       0.0\n",
              "46175       0.0\n",
              "Name: RADIACAO GLOBAL (W/m²), Length: 41814, dtype: float64"
            ]
          },
          "metadata": {
            "tags": []
          },
          "execution_count": 12
        }
      ]
    },
    {
      "cell_type": "code",
      "metadata": {
        "colab": {
          "base_uri": "https://localhost:8080/"
        },
        "id": "ozuoTVJqB2uA",
        "outputId": "d56d0ea3-d932-4516-89bb-6acef324398d"
      },
      "source": [
        "Y1"
      ],
      "execution_count": null,
      "outputs": [
        {
          "output_type": "execute_result",
          "data": {
            "text/plain": [
              "30378    1971.2\n",
              "38202    1183.2\n",
              "26015       0.0\n",
              "37918       0.0\n",
              "27542    2517.5\n",
              "          ...  \n",
              "15251    1472.8\n",
              "13158       0.0\n",
              "30833    2488.3\n",
              "20411     504.4\n",
              "7394        0.0\n",
              "Name: RADIACAO GLOBAL (W/m²), Length: 33451, dtype: float64"
            ]
          },
          "metadata": {
            "tags": []
          },
          "execution_count": 13
        }
      ]
    },
    {
      "cell_type": "markdown",
      "metadata": {
        "id": "IZPLjOjBgljw"
      },
      "source": [
        "## Limpando keras"
      ]
    },
    {
      "cell_type": "code",
      "metadata": {
        "id": "zdjtNsqivGY8"
      },
      "source": [
        "#Limpando keras\n",
        "tf.keras.backend.clear_session()"
      ],
      "execution_count": null,
      "outputs": []
    },
    {
      "cell_type": "markdown",
      "metadata": {
        "id": "WTpB-rleg9I1"
      },
      "source": [
        "## Definindo neuronios"
      ]
    },
    {
      "cell_type": "code",
      "metadata": {
        "id": "3p_6pJ8mvGmP"
      },
      "source": [
        "#Definindo neuronios\n",
        "model_in = tf.keras.models.Sequential()\n",
        "model_in.add(tf.keras.layers.Dense(77, activation='tanh'))\n",
        "model_in.add(tf.keras.layers.Dense(34, activation='tanh'))\n",
        "model_in.add(tf.keras.layers.Dense(20, activation='relu'))\n",
        "model_in.add(tf.keras.layers.Dense(12, activation='tanh'))\n",
        "model_in.add(tf.keras.layers.Dense(5, activation='relu'))\n",
        "model_in.add(tf.keras.layers.Dense(1, activation='linear'))"
      ],
      "execution_count": null,
      "outputs": []
    },
    {
      "cell_type": "markdown",
      "metadata": {
        "id": "zgxNBZyFg_w5"
      },
      "source": [
        "## Compilando modelo"
      ]
    },
    {
      "cell_type": "code",
      "metadata": {
        "id": "dzBb_s3JtsQ8"
      },
      "source": [
        "# Compilando modelo\n",
        "model_in.compile(loss=['mse'], optimizer=tf.keras.optimizers.Adamax(learning_rate=0.004, beta_1=0.9, beta_2=0.999, epsilon=1e-07, name=\"Adamax\"), metrics=['mae'])"
      ],
      "execution_count": null,
      "outputs": []
    },
    {
      "cell_type": "markdown",
      "metadata": {
        "id": "0SFq6L5ghBD1"
      },
      "source": [
        "## Fit"
      ]
    },
    {
      "cell_type": "code",
      "metadata": {
        "id": "g2guBVPWvGry",
        "colab": {
          "base_uri": "https://localhost:8080/"
        },
        "outputId": "1d527166-7ff2-4b4b-b433-46ae87df7b2c"
      },
      "source": [
        "# Fit retorna histórico do modelo\n",
        "model_his = model_in.fit(x, y, epochs=50, batch_size=20, verbose=1, validation_split=0.20)"
      ],
      "execution_count": null,
      "outputs": [
        {
          "output_type": "stream",
          "text": [
            "Epoch 1/50\n",
            "1673/1673 [==============================] - 4s 2ms/step - loss: 1687680.7569 - mae: 791.7672 - val_loss: 1237489.7500 - val_mae: 792.0632\n",
            "Epoch 2/50\n",
            "1673/1673 [==============================] - 2s 1ms/step - loss: 1264341.2658 - mae: 847.9497 - val_loss: 1093552.8750 - val_mae: 874.9019\n",
            "Epoch 3/50\n",
            "1673/1673 [==============================] - 2s 1ms/step - loss: 1152886.6366 - mae: 900.2131 - val_loss: 1093698.7500 - val_mae: 889.4361\n",
            "Epoch 4/50\n",
            "1673/1673 [==============================] - 2s 1ms/step - loss: 1169276.6420 - mae: 912.6402 - val_loss: 1094157.3750 - val_mae: 891.7892\n",
            "Epoch 5/50\n",
            "1673/1673 [==============================] - 2s 1ms/step - loss: 1165804.3253 - mae: 914.0537 - val_loss: 1094178.1250 - val_mae: 891.8790\n",
            "Epoch 6/50\n",
            "1673/1673 [==============================] - 2s 1ms/step - loss: 1173860.0765 - mae: 917.7932 - val_loss: 1093838.2500 - val_mae: 890.2181\n",
            "Epoch 7/50\n",
            "1673/1673 [==============================] - 2s 1ms/step - loss: 1169495.7969 - mae: 913.8636 - val_loss: 1094302.1250 - val_mae: 892.4265\n",
            "Epoch 8/50\n",
            "1673/1673 [==============================] - 2s 1ms/step - loss: 1160757.9822 - mae: 911.2122 - val_loss: 1093987.1250 - val_mae: 890.9804\n",
            "Epoch 9/50\n",
            "1673/1673 [==============================] - 2s 1ms/step - loss: 1145124.6710 - mae: 907.0172 - val_loss: 1094450.7500 - val_mae: 893.0433\n",
            "Epoch 10/50\n",
            "1673/1673 [==============================] - 2s 1ms/step - loss: 1162688.1732 - mae: 913.8625 - val_loss: 1094259.7500 - val_mae: 892.2426\n",
            "Epoch 11/50\n",
            "1673/1673 [==============================] - 2s 1ms/step - loss: 1161524.1942 - mae: 913.2722 - val_loss: 1094019.6250 - val_mae: 891.1396\n",
            "Epoch 12/50\n",
            "1673/1673 [==============================] - 2s 1ms/step - loss: 1177006.0346 - mae: 918.5045 - val_loss: 1093901.1250 - val_mae: 890.5486\n",
            "Epoch 13/50\n",
            "1673/1673 [==============================] - 2s 1ms/step - loss: 1147672.0628 - mae: 906.9179 - val_loss: 1094489.3750 - val_mae: 893.2023\n",
            "Epoch 14/50\n",
            "1673/1673 [==============================] - 2s 1ms/step - loss: 1151021.7783 - mae: 909.9142 - val_loss: 1093814.7500 - val_mae: 890.0914\n",
            "Epoch 15/50\n",
            "1673/1673 [==============================] - 2s 1ms/step - loss: 1158142.5501 - mae: 910.5513 - val_loss: 1094132.5000 - val_mae: 891.6735\n",
            "Epoch 16/50\n",
            "1673/1673 [==============================] - 2s 1ms/step - loss: 1150303.0640 - mae: 908.4730 - val_loss: 1094072.1250 - val_mae: 891.3926\n",
            "Epoch 17/50\n",
            "1673/1673 [==============================] - 2s 1ms/step - loss: 1149573.0151 - mae: 908.2771 - val_loss: 1093854.8750 - val_mae: 890.3059\n",
            "Epoch 18/50\n",
            "1673/1673 [==============================] - 2s 1ms/step - loss: 1150045.6367 - mae: 907.6524 - val_loss: 1094128.8750 - val_mae: 891.6584\n",
            "Epoch 19/50\n",
            "1673/1673 [==============================] - 2s 1ms/step - loss: 1155334.5901 - mae: 910.9013 - val_loss: 1093806.2500 - val_mae: 890.0447\n",
            "Epoch 20/50\n",
            "1673/1673 [==============================] - 2s 1ms/step - loss: 1155845.6051 - mae: 909.4964 - val_loss: 1094156.7500 - val_mae: 891.7873\n",
            "Epoch 21/50\n",
            "1673/1673 [==============================] - 2s 1ms/step - loss: 1135635.4170 - mae: 902.0564 - val_loss: 1094557.3750 - val_mae: 893.4705\n",
            "Epoch 22/50\n",
            "1673/1673 [==============================] - 2s 1ms/step - loss: 1157502.1110 - mae: 913.2036 - val_loss: 1094101.1250 - val_mae: 891.5239\n",
            "Epoch 23/50\n",
            "1673/1673 [==============================] - 2s 1ms/step - loss: 1162906.1971 - mae: 911.3803 - val_loss: 1093737.0000 - val_mae: 889.6600\n",
            "Epoch 24/50\n",
            "1673/1673 [==============================] - 2s 1ms/step - loss: 1149904.3647 - mae: 906.6110 - val_loss: 1094246.6250 - val_mae: 892.1863\n",
            "Epoch 25/50\n",
            "1673/1673 [==============================] - 2s 1ms/step - loss: 1139121.5988 - mae: 904.0491 - val_loss: 1094467.1250 - val_mae: 893.1093\n",
            "Epoch 26/50\n",
            "1673/1673 [==============================] - 3s 1ms/step - loss: 1162832.9667 - mae: 912.5008 - val_loss: 1093990.7500 - val_mae: 890.9980\n",
            "Epoch 27/50\n",
            "1673/1673 [==============================] - 2s 1ms/step - loss: 1160971.2522 - mae: 913.1916 - val_loss: 1094017.3750 - val_mae: 891.1301\n",
            "Epoch 28/50\n",
            "1673/1673 [==============================] - 2s 1ms/step - loss: 1165542.5568 - mae: 912.2181 - val_loss: 1094072.3750 - val_mae: 891.3932\n",
            "Epoch 29/50\n",
            "1673/1673 [==============================] - 2s 1ms/step - loss: 1150488.3843 - mae: 907.1623 - val_loss: 1093969.2500 - val_mae: 890.8915\n",
            "Epoch 30/50\n",
            "1673/1673 [==============================] - 2s 1ms/step - loss: 1156729.5796 - mae: 910.1918 - val_loss: 1093680.7500 - val_mae: 889.3293\n",
            "Epoch 31/50\n",
            "1673/1673 [==============================] - 2s 1ms/step - loss: 1156038.9459 - mae: 908.4102 - val_loss: 1094219.7500 - val_mae: 892.0666\n",
            "Epoch 32/50\n",
            "1673/1673 [==============================] - 2s 1ms/step - loss: 1172201.0293 - mae: 917.6768 - val_loss: 1093735.5000 - val_mae: 889.6472\n",
            "Epoch 33/50\n",
            "1673/1673 [==============================] - 2s 1ms/step - loss: 1147700.6346 - mae: 903.6804 - val_loss: 1094730.8750 - val_mae: 894.1331\n",
            "Epoch 34/50\n",
            "1673/1673 [==============================] - 2s 1ms/step - loss: 1149805.0877 - mae: 909.5790 - val_loss: 1094743.7500 - val_mae: 894.1827\n",
            "Epoch 35/50\n",
            "1673/1673 [==============================] - 2s 1ms/step - loss: 1150787.6263 - mae: 909.4302 - val_loss: 1094382.7500 - val_mae: 892.7646\n",
            "Epoch 36/50\n",
            "1673/1673 [==============================] - 2s 1ms/step - loss: 1134235.8721 - mae: 900.3003 - val_loss: 1094826.2500 - val_mae: 894.4844\n",
            "Epoch 37/50\n",
            "1673/1673 [==============================] - 2s 1ms/step - loss: 1154131.9705 - mae: 911.1675 - val_loss: 1094270.1250 - val_mae: 892.2872\n",
            "Epoch 38/50\n",
            "1673/1673 [==============================] - 2s 1ms/step - loss: 1166307.4499 - mae: 914.2063 - val_loss: 1094064.3750 - val_mae: 891.3559\n",
            "Epoch 39/50\n",
            "1673/1673 [==============================] - 2s 1ms/step - loss: 1159551.0827 - mae: 910.4688 - val_loss: 1094057.3750 - val_mae: 891.3209\n",
            "Epoch 40/50\n",
            "1673/1673 [==============================] - 2s 1ms/step - loss: 1163965.2909 - mae: 914.8509 - val_loss: 1093816.5000 - val_mae: 890.0979\n",
            "Epoch 41/50\n",
            "1673/1673 [==============================] - 2s 1ms/step - loss: 1138842.9753 - mae: 901.4874 - val_loss: 1094156.1250 - val_mae: 891.7812\n",
            "Epoch 42/50\n",
            "1673/1673 [==============================] - 2s 1ms/step - loss: 1145027.0977 - mae: 905.8575 - val_loss: 1094233.3750 - val_mae: 892.1275\n",
            "Epoch 43/50\n",
            "1673/1673 [==============================] - 2s 1ms/step - loss: 1155912.4461 - mae: 912.0355 - val_loss: 1093880.0000 - val_mae: 890.4368\n",
            "Epoch 44/50\n",
            "1673/1673 [==============================] - 2s 1ms/step - loss: 1166605.7352 - mae: 915.5878 - val_loss: 1093799.6250 - val_mae: 890.0051\n",
            "Epoch 45/50\n",
            "1673/1673 [==============================] - 2s 1ms/step - loss: 1154580.1050 - mae: 908.2006 - val_loss: 1094273.6250 - val_mae: 892.3015\n",
            "Epoch 46/50\n",
            "1673/1673 [==============================] - 2s 1ms/step - loss: 1157129.6300 - mae: 909.7842 - val_loss: 1093921.0000 - val_mae: 890.6489\n",
            "Epoch 47/50\n",
            "1673/1673 [==============================] - 2s 1ms/step - loss: 1149822.8641 - mae: 906.4295 - val_loss: 1094164.2500 - val_mae: 891.8187\n",
            "Epoch 48/50\n",
            "1673/1673 [==============================] - 2s 1ms/step - loss: 1162400.2767 - mae: 913.1372 - val_loss: 1093931.2500 - val_mae: 890.7056\n",
            "Epoch 49/50\n",
            "1673/1673 [==============================] - 2s 1ms/step - loss: 1151320.0401 - mae: 907.4862 - val_loss: 1094041.7500 - val_mae: 891.2480\n",
            "Epoch 50/50\n",
            "1673/1673 [==============================] - 2s 1ms/step - loss: 1160247.1911 - mae: 909.8079 - val_loss: 1094018.7500 - val_mae: 891.1376\n"
          ],
          "name": "stdout"
        }
      ]
    },
    {
      "cell_type": "markdown",
      "metadata": {
        "id": "hxDflwyJhFRS"
      },
      "source": [
        "## Grafico de loss"
      ]
    },
    {
      "cell_type": "code",
      "metadata": {
        "id": "CyC7ZespvGsE",
        "colab": {
          "base_uri": "https://localhost:8080/",
          "height": 383
        },
        "outputId": "496e1c61-f03c-4a7c-8f19-99f9fc8e33c6"
      },
      "source": [
        "#Grafico de loss\n",
        "plt.figure(figsize=(14,5), dpi=80, facecolor='w', edgecolor='k')\n",
        "plt.title(\"LOSS\")\n",
        "plt.xlabel(\"Loss\")\n",
        "plt.ylabel(\"Epochs\")\n",
        "plt.plot(model_his.history['loss'], label=\"Loss/Epoch\")\n",
        "plt.plot(model_his.history['val_loss'], label=\"Val Loss/Epoch\")\n",
        "plt.legend()\n",
        "plt.show()"
      ],
      "execution_count": null,
      "outputs": [
        {
          "output_type": "display_data",
          "data": {
            "image/png": "[encoded data removed]",
            "text/plain": [
              "<Figure size 1120x400 with 1 Axes>"
            ]
          },
          "metadata": {
            "tags": []
          }
        }
      ]
    },
    {
      "cell_type": "markdown",
      "metadata": {
        "id": "P3ejI7kuhHiR"
      },
      "source": [
        "## Grafico de MAE"
      ]
    },
    {
      "cell_type": "code",
      "metadata": {
        "id": "InESY6iSvGsT",
        "colab": {
          "base_uri": "https://localhost:8080/"
        },
        "outputId": "0d433a5a-5c2c-44d2-aad8-aabecb0d8a69"
      },
      "source": [
        "# Normalizando MAE\n",
        "model_his.history['mae'][-3:-1]"
      ],
      "execution_count": null,
      "outputs": [
        {
          "output_type": "execute_result",
          "data": {
            "text/plain": [
              "[910.7420654296875, 910.278076171875]"
            ]
          },
          "metadata": {
            "tags": []
          },
          "execution_count": 19
        }
      ]
    },
    {
      "cell_type": "code",
      "metadata": {
        "id": "g8Xpa32tvGsa",
        "colab": {
          "base_uri": "https://localhost:8080/",
          "height": 383
        },
        "outputId": "7b0f9a22-30d1-4e51-d39a-18aa10247b36"
      },
      "source": [
        "#Grafico de MAE\n",
        "plt.figure(figsize=(14,5), dpi=80, facecolor='w', edgecolor='k')\n",
        "plt.title(\"MAE\")\n",
        "plt.xlabel(\"MAE\")\n",
        "plt.ylabel(\"Epochs\")\n",
        "plt.plot(model_his.history['mae'], label=\"MAE/Epoch\")\n",
        "plt.plot(model_his.history['val_mae'], label=\"Val MAE/Epoch\")\n",
        "plt.legend()\n",
        "plt.show()"
      ],
      "execution_count": null,
      "outputs": [
        {
          "output_type": "display_data",
          "data": {
            "image/png": "[encoded data removed]",
            "text/plain": [
              "<Figure size 1120x400 with 1 Axes>"
            ]
          },
          "metadata": {
            "tags": []
          }
        }
      ]
    },
    {
      "cell_type": "markdown",
      "metadata": {
        "id": "WYn1zStHv7t_"
      },
      "source": [
        "## Predição"
      ]
    },
    {
      "cell_type": "code",
      "metadata": {
        "id": "6Sp_DvdB9uyI"
      },
      "source": [
        "Yp = model_in.predict(X2)"
      ],
      "execution_count": null,
      "outputs": []
    },
    {
      "cell_type": "code",
      "metadata": {
        "id": "6JPNw7IFLFRV",
        "colab": {
          "base_uri": "https://localhost:8080/"
        },
        "outputId": "7d00d58d-e51d-48d9-a62c-ab6ec095ccba"
      },
      "source": [
        "Yp"
      ],
      "execution_count": null,
      "outputs": [
        {
          "output_type": "execute_result",
          "data": {
            "text/plain": [
              "array([[789.7383],\n",
              "       [789.7383],\n",
              "       [789.7383],\n",
              "       ...,\n",
              "       [789.7383],\n",
              "       [789.7383],\n",
              "       [789.7382]], dtype=float32)"
            ]
          },
          "metadata": {
            "tags": []
          },
          "execution_count": 22
        }
      ]
    },
    {
      "cell_type": "markdown",
      "metadata": {
        "id": "lFVHPiNhhLHX"
      },
      "source": [
        "## MAPE"
      ]
    },
    {
      "cell_type": "code",
      "metadata": {
        "id": "eMQjg3hXeWUF",
        "colab": {
          "base_uri": "https://localhost:8080/"
        },
        "outputId": "15470217-f6b9-4627-abcb-397690851caa"
      },
      "source": [
        "# Implementar a regressão linear\n",
        "actual = Y2\n",
        "pred = Yp\n",
        "\n",
        "def mean_absolute_percentage_error(actual, pred):\n",
        "    actual, pred = np.array(actual), np.array(pred)\n",
        "    actual = np.argmax(actual)\n",
        "    pred = np.argmax(pred)\n",
        "    if actual == 0.0 or pred == 0.0:\n",
        "      return 'zero', np.mean(np.abs(actual - pred)) * 100\n",
        "    else:\n",
        "      return np.mean(np.abs((actual - pred) / actual)) * 100\n",
        "\n",
        "mean_absolute_percentage_error(actual, pred)"
      ],
      "execution_count": null,
      "outputs": [
        {
          "output_type": "execute_result",
          "data": {
            "text/plain": [
              "('zero', 228800.0)"
            ]
          },
          "metadata": {
            "tags": []
          },
          "execution_count": 23
        }
      ]
    },
    {
      "cell_type": "code",
      "metadata": {
        "id": "d-wNuQIemGlO",
        "colab": {
          "base_uri": "https://localhost:8080/"
        },
        "outputId": "558de241-3358-4a9e-e994-6d64aa35cd3c"
      },
      "source": [
        "# Utilizando MAPE\n",
        "def mean_absolute_percentage_error(Y2, Yp):\n",
        "    Y2, Yp = np.array(Y2), np.array(Yp)\n",
        "    return np.mean(np.abs((Y2 - Yp) / Y2)) * 100\n",
        "\n",
        "mean_absolute_percentage_error(Yp,Y2)"
      ],
      "execution_count": null,
      "outputs": [
        {
          "output_type": "execute_result",
          "data": {
            "text/plain": [
              "116.26516292290643"
            ]
          },
          "metadata": {
            "tags": []
          },
          "execution_count": 24
        }
      ]
    }
  ]
}